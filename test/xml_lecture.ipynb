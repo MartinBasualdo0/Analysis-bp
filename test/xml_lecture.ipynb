{
 "cells": [
  {
   "cell_type": "code",
   "execution_count": null,
   "metadata": {},
   "outputs": [],
   "source": [
    "import pandas as pd\n",
    "from botasaurus import *\n",
    "from selenium.webdriver.common.by import By\n",
    "from selenium.webdriver.support.ui import WebDriverWait\n",
    "from selenium.webdriver.support import expected_conditions as EC\n",
    "import requests\n",
    "import xml.etree.ElementTree as ET\n",
    "from config.config_jupyter import set_wd\n",
    "set_wd()"
   ]
  },
  {
   "cell_type": "code",
   "execution_count": 35,
   "metadata": {},
   "outputs": [],
   "source": [
    "@browser(headless=True, output=None, profile=None)\n",
    "def scrape_links_task(driver: AntiDetectDriver, data):\n",
    "    driver.get(\"https://www.indec.gob.ar/indec/web/Nivel4-Tema-3-35-45\")\n",
    "    # xls_div = WebDriverWait(driver, 10).until(EC.presence_of_all_elements_located((By.CLASS_NAME, 'a-color2')))\n",
    "    xlsx_div = WebDriverWait(driver, 10).until(\n",
    "        EC.presence_of_all_elements_located((By.CLASS_NAME, 'a-color2'))\n",
    "    )\n",
    "    hrefs=[]\n",
    "    for element in xlsx_div:\n",
    "        elemento=element.get_attribute('href')\n",
    "        if elemento != None:\n",
    "            if (elemento.endswith(\"xls\") | elemento.endswith(\"xml\")):\n",
    "                hrefs.append(elemento)\n",
    "    # links = driver.get_links()\n",
    "    return {\n",
    "        \"links\": hrefs\n",
    "    }"
   ]
  },
  {
   "cell_type": "code",
   "execution_count": 36,
   "metadata": {},
   "outputs": [],
   "source": [
    "links = scrape_links_task()\n",
    "links"
   ]
  },
  {
   "cell_type": "code",
   "execution_count": 16,
   "metadata": {},
   "outputs": [
    {
     "data": {
      "text/plain": [
       "'Q.N.AR.W1.S1.S1.T.B.CA._Z._Z._Z.USD._T._X.N'"
      ]
     },
     "execution_count": 16,
     "metadata": {},
     "output_type": "execute_result"
    }
   ],
   "source": [
    "sdmx_code"
   ]
  },
  {
   "cell_type": "code",
   "execution_count": null,
   "metadata": {},
   "outputs": [],
   "source": [
    "url = \"https://www.indec.gob.ar/ftp/cuadros/economia/BOP.xml\"\n",
    "response = requests.get(url)\n",
    "if response.status_code == 200:\n",
    "    header, dataset = ET.fromstring(response.content)\n",
    "    for child in dataset:\n",
    "        print('.'.join(child.attrib.values()))\n",
    "    # You can also access specific elements by tag name:\n",
    "    # for element in root.findall('your_tag_name'):\n",
    "    #     print(element.tag, element.text)\n",
    "else:\n",
    "    print(\"Failed to retrieve XML data\")\n",
    "\n"
   ]
  },
  {
   "cell_type": "code",
   "execution_count": 5,
   "metadata": {},
   "outputs": [
    {
     "name": "stdout",
     "output_type": "stream",
     "text": [
      "Series with SDMX code Q.N.AR.W1.S1.S1.T.B.CA._Z._Z._Z.USD._T._X.N not found.\n"
     ]
    }
   ],
   "source": [
    "import requests\n",
    "import xml.etree.ElementTree as ET\n",
    "\n",
    "# URL of the XML file\n",
    "url = \"https://www.indec.gob.ar/ftp/cuadros/economia/BOP.xml\"\n",
    "\n",
    "# Send a GET request to the URL\n",
    "response = requests.get(url)\n",
    "\n",
    "# Check if the request was successful\n",
    "if response.status_code == 200:\n",
    "    # Parse the XML content\n",
    "    header, dataset = ET.fromstring(response.content)\n",
    "\n",
    "    # Define the SDMX code you want to search for\n",
    "    sdmx_code = \"Q.N.AR.W1.S1.S1.T.B.CA._Z._Z._Z.USD._T._X.N\"\n",
    "\n",
    "    # Iterate through the Series elements\n",
    "    for series in dataset.findall('.//Series'):\n",
    "        # Construct the series ID using attributes\n",
    "        series_id = \".\".join([series.get(attr) for attr in ['FREQ', 'REF_AREA', 'COUNTERPART_AREA',\n",
    "                                                            'REF_SECTOR', 'COUNTERPART_SECTOR',\n",
    "                                                            'FLOW_STOCK_ENTRY', 'ACCOUNTING_ENTRY',\n",
    "                                                            'INT_ACC_ITEM', 'FUNCTIONAL_CAT', 'INSTR_ASSET',\n",
    "                                                            'MATURITY', 'UNIT_MEASURE', 'CURRENCY_DENOM',\n",
    "                                                            'VALUATION', 'COMP_METHOD', 'TIME_FORMAT']])\n",
    "        \n",
    "        # If the series ID matches the desired SDMX code, print it\n",
    "        if series_id == sdmx_code:\n",
    "            print(\"Found the series with SDMX code:\", sdmx_code)\n",
    "            for obs in series.findall('Obs'):\n",
    "                print(\"Time Period:\", obs.get('TIME_PERIOD'), \"Value:\", obs.get('OBS_VALUE'))\n",
    "            break\n",
    "    else:\n",
    "        print(\"Series with SDMX code\", sdmx_code, \"not found.\")\n",
    "else:\n",
    "    print(\"Failed to retrieve XML data\")\n"
   ]
  }
 ],
 "metadata": {
  "kernelspec": {
   "display_name": ".venv",
   "language": "python",
   "name": "python3"
  },
  "language_info": {
   "codemirror_mode": {
    "name": "ipython",
    "version": 3
   },
   "file_extension": ".py",
   "mimetype": "text/x-python",
   "name": "python",
   "nbconvert_exporter": "python",
   "pygments_lexer": "ipython3",
   "version": "3.11.3"
  }
 },
 "nbformat": 4,
 "nbformat_minor": 2
}
