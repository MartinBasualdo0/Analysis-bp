{
 "cells": [
  {
   "cell_type": "code",
   "execution_count": 5,
   "metadata": {},
   "outputs": [
    {
     "name": "stdout",
     "output_type": "stream",
     "text": [
      "c:\\Users\\mbasualdo\\Documents\\Analysis bp\n"
     ]
    }
   ],
   "source": [
    "import pandas as pd\n",
    "import plotly.graph_objects as go\n",
    "import json\n",
    "from config.config_jupyter import set_wd\n",
    "set_wd()\n",
    "import json\n",
    "from src.links import scrape_links_bp, Scraper\n",
    "from src.bp.wrangling import clean_bp_data_frame\n",
    "from src.bp.plots import plot_segun_codigo"
   ]
  },
  {
   "cell_type": "code",
   "execution_count": 6,
   "metadata": {},
   "outputs": [],
   "source": [
    "scraper_instance = Scraper()\n",
    "links_xls = scrape_links_bp(scraper_instance)\n",
    "with open(\"./data/SDMX_Descripción_dict.json\") as f:\n",
    "    dict_sdmx_description = json.load(f)\n",
    "with open(\"./data/Codigo BDP_Descripción_dict.json\") as f:\n",
    "    dict_bdpcode_description = json.load(f)"
   ]
  },
  {
   "cell_type": "code",
   "execution_count": 7,
   "metadata": {},
   "outputs": [],
   "source": [
    "df = clean_bp_data_frame(links_xls[0])"
   ]
  },
  {
   "cell_type": "code",
   "execution_count": 8,
   "metadata": {},
   "outputs": [
    {
     "data": {
      "text/plain": [
       "'https://www.indec.gob.ar/ftp/cuadros/economia/cin_III_2023.xls'"
      ]
     },
     "execution_count": 8,
     "metadata": {},
     "output_type": "execute_result"
    }
   ],
   "source": [
    "links_xls[0]"
   ]
  },
  {
   "cell_type": "code",
   "execution_count": 9,
   "metadata": {},
   "outputs": [
    {
     "data": {
      "application/vnd.plotly.v1+json": {
       "config": {
        "plotlyServerURL": "https://plot.ly"
       },
       "data": [
        {
         "line": {
          "width": 4
         },
         "name": "Otros sectores",
         "type": "scatter",
         "x": [
          "2013-03-31T00:00:00",
          "2013-06-30T00:00:00",
          "2013-09-30T00:00:00",
          "2013-12-31T00:00:00",
          "2014-03-31T00:00:00",
          "2014-06-30T00:00:00",
          "2014-09-30T00:00:00",
          "2014-12-31T00:00:00",
          "2015-03-31T00:00:00",
          "2015-06-30T00:00:00",
          "2015-09-30T00:00:00",
          "2015-12-31T00:00:00",
          "2016-03-31T00:00:00",
          "2016-06-30T00:00:00",
          "2016-09-30T00:00:00",
          "2016-12-31T00:00:00",
          "2017-03-31T00:00:00",
          "2017-06-30T00:00:00",
          "2017-09-30T00:00:00",
          "2017-12-31T00:00:00",
          "2018-03-31T00:00:00",
          "2018-06-30T00:00:00",
          "2018-09-30T00:00:00",
          "2018-12-31T00:00:00",
          "2019-03-31T00:00:00",
          "2019-06-30T00:00:00",
          "2019-09-30T00:00:00",
          "2019-12-31T00:00:00",
          "2020-03-31T00:00:00",
          "2020-06-30T00:00:00",
          "2020-09-30T00:00:00",
          "2020-12-31T00:00:00",
          "2021-03-31T00:00:00",
          "2021-06-30T00:00:00",
          "2021-09-30T00:00:00",
          "2021-12-31T00:00:00",
          "2022-03-31T00:00:00",
          "2022-06-30T00:00:00",
          "2022-09-30T00:00:00",
          "2022-12-31T00:00:00",
          "2023-03-31T00:00:00",
          "2023-06-30T00:00:00",
          "2023-09-30T00:00:00"
         ],
         "y": [
          -111.70604153024004,
          -40.202147234526805,
          -97.129659286,
          401.2219454630248,
          -241.7988285738728,
          649.4679810383316,
          -69.06315524519997,
          -27.26261170830867,
          408.73984707970294,
          1425.14454925486,
          -44.930529968365,
          12.574360896400009,
          950.7191609437931,
          -35.060392142989016,
          1904.5310375001286,
          45.37579626229787,
          1528.3055730903993,
          467.2503436500001,
          624.2998169446,
          1670.43,
          919.1566167657618,
          553.5064976132614,
          -209.474,
          -1032.2599121354278,
          -42.818959594416796,
          -61.243556844791094,
          -311.889174434127,
          -7.606463061691851,
          50.982983000000004,
          343.898241,
          -423.619258,
          -23.829408,
          181.48995974480636,
          -161.869642,
          -371.527343,
          18.91921,
          -85.734776,
          -284.72839600000003,
          -249.56713600000003,
          -902.921368,
          -263.65797100000003,
          -488.553493,
          -227.261546
         ]
        }
       ],
       "layout": {
        "barmode": "relative",
        "separators": ",.",
        "template": {},
        "title": {
         "text": "Evolución de Otros sectores y sus principales componentes<br><sup> En millones de dólares"
        },
        "yaxis": {
         "tickformat": ","
        }
       }
      }
     },
     "metadata": {},
     "output_type": "display_data"
    }
   ],
   "source": [
    "plot_segun_codigo(df,\n",
    "                  dict_bdpcode_description,\n",
    "                  \"3.2.ENP.2.4\", \n",
    "                  desagregacion = False, \n",
    "                  anio_desde=2013\n",
    "                  )"
   ]
  }
 ],
 "metadata": {
  "kernelspec": {
   "display_name": ".venv",
   "language": "python",
   "name": "python3"
  },
  "language_info": {
   "codemirror_mode": {
    "name": "ipython",
    "version": 3
   },
   "file_extension": ".py",
   "mimetype": "text/x-python",
   "name": "python",
   "nbconvert_exporter": "python",
   "pygments_lexer": "ipython3",
   "version": "3.12.2"
  }
 },
 "nbformat": 4,
 "nbformat_minor": 2
}
